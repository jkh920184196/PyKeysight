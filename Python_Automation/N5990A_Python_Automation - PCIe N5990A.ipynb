{
 "cells": [
  {
   "cell_type": "code",
   "execution_count": 1,
   "metadata": {},
   "outputs": [],
   "source": [
    "import sys\n",
    "sys.path.append('C:\\Program Files (x86)\\BitifEye\\ValiFrameK0\\PCIe\\TestAutomation') # Add the location of the Valiframe dll's to the system path\n",
    "import clr # Import the Common Runtime Library Python module\n",
    "\n",
    "clr.AddReference(\"ValiFrameRemote\") # Create a reference from CLR to the ValiFrameRemote DLL\n",
    "#clr.AddReference(\"VFBase\") # Create a reference from CLR to the VFBase DLL\n",
    "clr.AddReference(\"VFSequence\") # Create a reference from CLR to the VFSequence DLL\n",
    "#clr.AddReference(\"VFUserInterface\") # Create a reference from CLR to the VFUserInterface DLL\n",
    "\n",
    "from BitifEye.ValiFrame.ValiFrameRemote import * # Import the entire ValiFrameRemote namespace from the DLL\n",
    "#from BitifEye.ValiFrame.Base import * # Import the entire Base namespace from the DLL\n",
    "#from BitifEye.ValiFrame.Sequence import * # Import the entire Sequence namespace from the DLL\n",
    "#from BitifEye.ValiFrame.UserInterface import * # Import the entire UserInterface namespace from the DLL\n",
    "#from BitifEye.Controls import * # Import the entire Controls namespace from the DLL"
   ]
  },
  {
   "cell_type": "markdown",
   "metadata": {},
   "source": [
    "Next we need to create functions to handle what happens when Valiframe creates an event.\n",
    "<br>In the example below we choose to handle events in the following way:\n",
    "<ul>\n",
    "    <li>**Log Events:** There are many events logged during procedure runs and it is undesirable to print these out or pause the program flow. We will simply ignore them using the **pass** statement.\n",
    "    <li>**All Other Events:** We use the **raw_input()** function to pause the program allowing messages to be printed to the interpreter. The user must hit enter to continue the program flow\n",
    "</ul>"
   ]
  },
  {
   "cell_type": "code",
   "execution_count": 2,
   "metadata": {},
   "outputs": [],
   "source": [
    "def my_LogChanged(logentry):\n",
    "    print('Log Entry:' + logentry)\n",
    "\n",
    "def my_StatusChanged(source,status):\n",
    "    print('Status Changed: ' + status)\n",
    "\n",
    "def my_ProcedureCompleted(procedure,xmlresult):\n",
    "    raw_input('Procedure Completed: ' + procedure + ' ' + xmlresult)\n",
    "\n",
    "def my_DialogPopUp(source, args):\n",
    "    #args.Dialog.ShowDialog()  #Uncomment to show Valiframe dialog box for all cases\n",
    "    msgbox = args.DialogText\n",
    "\n",
    "    # Definition for args.DialogType\n",
    "    #Member name           Value   Description \n",
    "    #Form                  0       General Form if the dialog is not one of the other dialog types  \n",
    "    #MessageBox            1       Standard Windows.Forms.MessageBox.  \n",
    "    #ConnectionDialog      2       Connection dialog. The dialog which pops up if a connection change is required.  \n",
    "    #UserInformationDialog 3       User Information Dialog, which contains a text and one button.  \n",
    "    #UserDecisionDialog    4       User Decision Dialog, which contains one text and 2 buttons.  \n",
    "    #InfoDialog            5       Info Dialog, which is the same as the UserInformationDialog (obsolete, will be removed in one of the next releases).  \n",
    "\n",
    "    if args.DialogType == 0:\n",
    "            raw_input('General Form Dialog: '+str(msgbox))\n",
    "            #  add actions here.....\n",
    "            #  args.Dialog.ShowDialog() #Uncomment to show dialog box for this case\n",
    "    elif args.DialogType == 1:\n",
    "            raw_input('Standard Windows.Forms.MessageBox: '+str(msgbox))\n",
    "            #  add actions here.....\n",
    "            #  args.Dialog.ShowDialog() #Uncomment to show dialog box for this case\n",
    "    elif args.DialogType == 2:\n",
    "            raw_input('Connection Dialog: '+str(msgbox))\n",
    "            #  add actions here.....\n",
    "            #  args.Dialog.ShowDialog() #Uncomment to show dialog box for this case\n",
    "    elif args.DialogType == 3:\n",
    "            raw_input('UserInformationDialog: '+str(msgbox))\n",
    "            #  add actions here.....\n",
    "            #  args.Dialog.ShowDialog() #Uncomment to show dialog box for this case\n",
    "    elif args.DialogType == 4:\n",
    "            raw_input('UserDecisionDialog: '+str(msgbox))\n",
    "            #  add actions here.....\n",
    "            #  args.Dialog.ShowDialog() #Uncomment to show dialog box for this case\n",
    "    elif args.DialogType == 5:\n",
    "            raw_input('InfoDialog: '+str(msgbox))\n",
    "            #  add actions here.....\n",
    "            #  args.Dialog.ShowDialog() #Uncomment to show dialog box for this case\n",
    "    else:\n",
    "            raw_input('Message not handled: '+str(msgbox))"
   ]
  },
  {
   "cell_type": "markdown",
   "metadata": {},
   "source": [
    "Now we need to create an instance of the ValiFrameRemote object"
   ]
  },
  {
   "cell_type": "code",
   "execution_count": 3,
   "metadata": {},
   "outputs": [],
   "source": [
    "my_vf_pcie = ValiFrameRemote(\"ProductGroupE.ValiFrameK0\") # Creates an instance of the ValiFrameRemote class"
   ]
  },
  {
   "cell_type": "markdown",
   "metadata": {},
   "source": [
    "Next we need to register the event ValiFrame event handlers with the functions created above"
   ]
  },
  {
   "cell_type": "code",
   "execution_count": 4,
   "metadata": {},
   "outputs": [],
   "source": [
    "#register event handlers\n",
    "my_vf_pcie.LogChanged += LogChangedEventHandler(my_LogChanged);\n",
    "my_vf_pcie.StatusChanged += StatusChangedEventHandler(my_StatusChanged);\n",
    "my_vf_pcie.ProcedureCompleted += ProcedureCompletedEventHandler(my_ProcedureCompleted);\n",
    "my_vf_pcie.DialogPopUp += DialogShowEventHandler(my_DialogPopUp);"
   ]
  },
  {
   "cell_type": "markdown",
   "metadata": {},
   "source": [
    "Now we launch the application & load a config"
   ]
  },
  {
   "cell_type": "code",
   "execution_count": 6,
   "metadata": {},
   "outputs": [
    {
     "name": "stdout",
     "output_type": "stream",
     "text": [
      "Log Entry:6/2/2021 4:04:40 PM> Internal: Station Loading Process\n",
      "Log Entry:6/2/2021 4:04:40 PM> Internal: Load assembly from: C:\\Program Files (x86)\\BitifEye\\ValiFrameK0\\PCIe\\TestAutomation\\PCIeStation.dll\n",
      "Log Entry:6/2/2021 4:04:41 PM> Internal: PCI Express N5990A ValiFrame, Version: 3.5.3.1\n",
      "Log Entry:6/2/2021 4:04:41 PM> Internal: Station Startup Sequence\n",
      "Log Entry:6/2/2021 4:04:41 PM> Internal: Loading instruments\n",
      "Log Entry:6/2/2021 4:04:41 PM> Internal: Loading 'VFAgN4903A.dll'\n",
      "Log Entry:6/2/2021 4:04:41 PM> Internal: Load assembly from: C:\\Program Files (x86)\\BitifEye\\ValiFrameK0\\PCIe\\TestAutomation\\VFAgN4903A.dll\n",
      "Log Entry:6/2/2021 4:04:41 PM> Internal: Loading 'M8020A.dll'\n",
      "Log Entry:6/2/2021 4:04:41 PM> Internal: Load assembly from: C:\\Program Files (x86)\\BitifEye\\ValiFrameK0\\PCIe\\TestAutomation\\M8020A.dll\n",
      "Log Entry:6/2/2021 4:04:41 PM> Internal: Loading 'VFAg81150A.dll'\n",
      "Log Entry:6/2/2021 4:04:41 PM> Internal: Load assembly from: C:\\Program Files (x86)\\BitifEye\\ValiFrameK0\\PCIe\\TestAutomation\\VFAg81150A.dll\n",
      "Log Entry:6/2/2021 4:04:41 PM> Internal: Loading 'VFAgDso.dll'\n",
      "Log Entry:6/2/2021 4:04:41 PM> Internal: Load assembly from: C:\\Program Files (x86)\\BitifEye\\ValiFrameK0\\PCIe\\TestAutomation\\VFAgDso.dll\n",
      "Log Entry:6/2/2021 4:04:41 PM> Internal: Loading 'VFNetIo230B.dll'\n",
      "Log Entry:6/2/2021 4:04:41 PM> Internal: Load assembly from: C:\\Program Files (x86)\\BitifEye\\ValiFrameK0\\PCIe\\TestAutomation\\VFNetIo230B.dll\n",
      "Log Entry:6/2/2021 4:04:41 PM> Internal: Loading 'VFAll4076.dll'\n",
      "Log Entry:6/2/2021 4:04:41 PM> Internal: Load assembly from: C:\\Program Files (x86)\\BitifEye\\ValiFrameK0\\PCIe\\TestAutomation\\VFAll4076.dll\n",
      "Log Entry:6/2/2021 4:04:41 PM> Internal: Loading 'VFBit2100.dll'\n",
      "Log Entry:6/2/2021 4:04:41 PM> Internal: Load assembly from: C:\\Program Files (x86)\\BitifEye\\ValiFrameK0\\PCIe\\TestAutomation\\VFBit2100.dll\n",
      "Log Entry:6/2/2021 4:04:41 PM> Internal: Loading 'M8040A.dll'\n",
      "Log Entry:6/2/2021 4:04:41 PM> Internal: Load assembly from: C:\\Program Files (x86)\\BitifEye\\ValiFrameK0\\PCIe\\TestAutomation\\M8040A.dll\n",
      "Log Entry:6/2/2021 4:04:43 PM> Internal: Product: PCI Express N5990A ValiFrame\n",
      "Log Entry:6/2/2021 4:04:43 PM> Internal: Version: 3.5.3.1\n",
      "Log Entry:6/2/2021 4:04:43 PM> Internal: Release date: 2020-09-11\n",
      "Log Entry:6/2/2021 4:04:43 PM> Internal: Computer Identifier: \"130-4097098002\"\n",
      "Log Entry:6/2/2021 4:04:43 PM> Internal: \n",
      "Log Entry:6/2/2021 4:04:43 PM> Internal: Licensed Features:\n",
      "Log Entry:6/2/2021 4:04:43 PM> Internal:  - Receiver Test - Test Sequencer (Maintenance valid 2021-09-01)\n",
      "Log Entry:6/2/2021 4:04:43 PM> Internal:  - Receiver Test - Test Sequencer (Maintenance valid 2021-09-01)\n",
      "Log Entry:6/2/2021 4:04:43 PM> Internal:  - PCIe Gen3 Receiver Test Base Spec (Maintenance valid 2021-09-01)\n",
      "Log Entry:6/2/2021 4:04:43 PM> Internal:  - PCIe Gen3 Receiver Test CEM Spec (Maintenance valid 2021-09-01)\n",
      "Log Entry:6/2/2021 4:04:43 PM> Internal:  - PCIe Gen3 Receiver Test U.2 Spec (Maintenance valid 2021-09-01)\n",
      "Log Entry:6/2/2021 4:04:43 PM> Internal:  - PCIe Gen3 Debug Tools Link Training Suite (Maintenance valid 2021-09-01)\n",
      "Log Entry:6/2/2021 4:04:43 PM> Internal:  - PCIe Gen4 Receiver Test Base Spec (Maintenance valid 2021-09-01)\n",
      "Log Entry:6/2/2021 4:04:43 PM> Internal:  - PCIe Gen4 Receiver Test CEM Spec (Maintenance valid 2021-09-01)\n",
      "Log Entry:6/2/2021 4:04:43 PM> Internal:  - PCIe Gen4 Receiver Test U.2 Spec (Maintenance valid 2021-09-01)\n",
      "Log Entry:6/2/2021 4:04:43 PM> Internal:  - PCIe Gen4 Receiver Test M.2 Spec (Maintenance valid 2021-09-01)\n",
      "Log Entry:6/2/2021 4:04:43 PM> Internal:  - PCIe Gen4 Debug Tools Link Training Suite (Maintenance valid 2021-09-01)\n",
      "Log Entry:6/2/2021 4:04:43 PM> Internal:  - PCIe Integrated BER Counter Interface Add-on (Maintenance valid 2021-09-01)\n",
      "Log Entry:6/2/2021 4:04:43 PM> Internal:  - PCIe Multi-Channel Support Add-on (Maintenance valid 2021-09-01)\n",
      "Log Entry:6/2/2021 4:04:43 PM> Internal:  - PCIe Link EQ Test Support Add-on (Maintenance valid 2021-09-01)\n",
      "Log Entry:6/2/2021 4:04:43 PM> Internal:  - PCIe Receiver Test Switch System Support Add-on (Maintenance valid 2021-09-01)\n",
      "Log Entry:6/2/2021 4:04:43 PM> Internal:  - PCIe Power-Cycle Automation Add-On (Maintenance valid 2021-09-01)\n",
      "Log Entry:6/2/2021 4:04:43 PM> Internal:  - Receiver Test - Test Sequencer (Maintenance valid 2021-09-01)\n",
      "Log Entry:6/2/2021 4:04:43 PM> Internal:  - Receiver Test - Test Sequencer (Maintenance valid 2021-09-01)\n",
      "Log Entry:6/2/2021 4:04:43 PM> Internal:  - Receiver Test - Test Sequencer (Maintenance valid 2021-09-01)\n",
      "Log Entry:6/2/2021 4:04:43 PM> Internal:  - Receiver Test - Test Sequencer (Maintenance valid 2021-09-01)\n",
      "Log Entry:6/2/2021 4:04:43 PM> Internal: \n",
      "Log Entry:6/2/2021 4:04:43 PM> Internal: ValiFrame uses software components which are distributed under OpenSource licenses.\n",
      "Log Entry:6/2/2021 4:04:43 PM> Internal: The license information can be found in the installation directory of ValiFrame.\n",
      "Log Entry:6/2/2021 4:04:43 PM> Internal: Connecting instruments\n",
      "Log Entry:6/2/2021 4:04:43 PM> Progress: Instrument Connections\n",
      "Log Entry:6/2/2021 4:04:43 PM> Internal: Closing instrument connections\n",
      "Log Entry:6/2/2021 4:04:43 PM> Internal: Closing connection to Keysight M8020A J-BERT at TCPIP0::10.36.166.154::hislip0::INSTR\n",
      "Log Entry:6/2/2021 4:04:43 PM> Internal: Closing connection to DSO Infiniium Series at TCPIP0::10.36.166.128::hislip0::INSTR\n",
      "Log Entry:6/2/2021 4:04:43 PM> Internal: Connecting instruments\n",
      "Log Entry:6/2/2021 4:04:43 PM> Progress: Not opening connection to Keysight M8020A J-BERT because it is configured to be offline.\n",
      "Log Entry:6/2/2021 4:04:43 PM> Progress: Not opening connection to DSO Infiniium Series because it is configured to be offline.\n",
      "Log Entry:6/2/2021 4:04:43 PM> Internal: Loaded calibration data file from \"C:\\ProgramData\\BitifEye\\ValiFrameK0\\PCIe\\CalibrationsOffline\\JBERT_M8020A\\Pci3Asic_LongChannel_M8041A_StrEyeHeight_.txt\"\n",
      "Log Entry:6/2/2021 4:04:43 PM> Internal: Loaded calibration data file from \"C:\\ProgramData\\BitifEye\\ValiFrameK0\\PCIe\\CalibrationsOffline\\JBERT_M8020A\\Pci3Asic_LongChannel_M8041A_StrEyeWidth_.txt\"\n",
      "Log Entry:6/2/2021 4:04:48 PM> Internal: Loaded calibration data file from \"C:\\ProgramData\\BitifEye\\ValiFrameK0\\PCIe\\CalibrationsOffline\\JBERT_M8020A\\Pci1_ASIC_RandomJitter_Ch7.txt\"\n",
      "Log Entry:6/2/2021 4:04:48 PM> Internal: Loaded calibration data file from \"C:\\ProgramData\\BitifEye\\ValiFrameK0\\PCIe\\CalibrationsOffline\\JBERT_M8020A\\Pci1_ASIC_CmInterference_Ch7.txt\"\n",
      "Log Entry:6/2/2021 4:04:48 PM> Internal: Loaded calibration data file from \"C:\\ProgramData\\BitifEye\\ValiFrameK0\\PCIe\\CalibrationsOffline\\JBERT_M8020A\\Pci1_ASIC_ISI_Ch7.txt\"\n",
      "Log Entry:6/2/2021 4:04:48 PM> Internal: Loaded calibration data file from \"C:\\ProgramData\\BitifEye\\ValiFrameK0\\PCIe\\CalibrationsOffline\\JBERT_M8020A\\Pci1_ASIC_EyeHeight_Ch7.txt\"\n",
      "Log Entry:6/2/2021 4:04:48 PM> Internal: Loaded calibration data file from \"C:\\ProgramData\\BitifEye\\ValiFrameK0\\PCIe\\CalibrationsOffline\\JBERT_M8020A\\Pci2_ASIC_RandomJitter_v2_Ch7.txt\"\n",
      "Log Entry:6/2/2021 4:04:48 PM> Internal: Loaded calibration data file from \"C:\\ProgramData\\BitifEye\\ValiFrameK0\\PCIe\\CalibrationsOffline\\JBERT_M8020A\\Pci2_ASIC_CmInterference_Ch7.txt\"\n",
      "Log Entry:6/2/2021 4:04:48 PM> Internal: Loaded calibration data file from \"C:\\ProgramData\\BitifEye\\ValiFrameK0\\PCIe\\CalibrationsOffline\\JBERT_M8020A\\Pci2_ASIC_ISI_Ch7.txt\"\n",
      "Log Entry:6/2/2021 4:04:48 PM> Internal: Loaded calibration data file from \"C:\\ProgramData\\BitifEye\\ValiFrameK0\\PCIe\\CalibrationsOffline\\JBERT_M8020A\\Pci2_ASIC_EyeHeight_Ch7.txt\"\n",
      "Log Entry:6/2/2021 4:04:48 PM> Internal: Loaded calibration data file from \"C:\\ProgramData\\BitifEye\\ValiFrameK0\\PCIe\\CalibrationsOffline\\JBERT_M8020A\\Pci3Asic_PreShoot_v2_.txt\"\n",
      "Log Entry:6/2/2021 4:04:48 PM> Internal: Loaded calibration data file from \"C:\\ProgramData\\BitifEye\\ValiFrameK0\\PCIe\\CalibrationsOffline\\JBERT_M8020A\\Pci3Asic_DeEmphasis_v2_.txt\"\n",
      "Log Entry:6/2/2021 4:04:48 PM> Internal: Loaded calibration data file from \"C:\\ProgramData\\BitifEye\\ValiFrameK0\\PCIe\\CalibrationsOffline\\JBERT_M8020A\\Pci3Asic_Vdiff_v2_.txt\"\n",
      "Log Entry:6/2/2021 4:04:48 PM> Internal: Loaded calibration data file from \"C:\\ProgramData\\BitifEye\\ValiFrameK0\\PCIe\\CalibrationsOffline\\JBERT_M8020A\\Pci3Asic_RandomJitter.txt\"\n",
      "Log Entry:6/2/2021 4:04:48 PM> Internal: Loaded calibration data file from \"C:\\ProgramData\\BitifEye\\ValiFrameK0\\PCIe\\CalibrationsOffline\\JBERT_M8020A\\Pci3Asic_LongChannel_M8041A_IL_v2_.txt\"\n",
      "Log Entry:6/2/2021 4:04:48 PM> Internal: Loaded calibration data file from \"C:\\ProgramData\\BitifEye\\ValiFrameK0\\PCIe\\CalibrationsOffline\\JBERT_M8020A\\Pci3Asic_LongChannel_M8041A_CmInterference.txt\"\n",
      "Log Entry:6/2/2021 4:04:48 PM> Internal: Loaded calibration data file from \"C:\\ProgramData\\BitifEye\\ValiFrameK0\\PCIe\\CalibrationsOffline\\JBERT_M8020A\\Pci3Asic_LongChannel_M8041A_DmInterference_v2.txt\"\n"
     ]
    },
    {
     "name": "stdout",
     "output_type": "stream",
     "text": [
      "Log Entry:6/2/2021 4:04:48 PM> Internal: Loaded calibration data file from \"C:\\ProgramData\\BitifEye\\ValiFrameK0\\PCIe\\CalibrationsOffline\\JBERT_M8020A\\Pci4_PreShoot.txt\"\n",
      "Log Entry:6/2/2021 4:04:48 PM> Internal: Loaded calibration data file from \"C:\\ProgramData\\BitifEye\\ValiFrameK0\\PCIe\\CalibrationsOffline\\JBERT_M8020A\\Pci4_DeEmphasis.txt\"\n",
      "Log Entry:6/2/2021 4:04:48 PM> Internal: Loaded calibration data file from \"C:\\ProgramData\\BitifEye\\ValiFrameK0\\PCIe\\CalibrationsOffline\\JBERT_M8020A\\Pci4_Vdiff.txt\"\n",
      "Log Entry:6/2/2021 4:04:48 PM> Internal: Loaded calibration data file from \"C:\\ProgramData\\BitifEye\\ValiFrameK0\\PCIe\\CalibrationsOffline\\JBERT_M8020A\\Pci4_Seasim_RandomJitter.txt\"\n",
      "Log Entry:6/2/2021 4:04:48 PM> Internal: Loaded calibration data file from \"C:\\ProgramData\\BitifEye\\ValiFrameK0\\PCIe\\CalibrationsOffline\\JBERT_M8020A\\Pci4_Seasim_HfSinusoidalJitter.txt\"\n",
      "Log Entry:6/2/2021 4:04:48 PM> Internal: Loaded calibration data file from \"C:\\ProgramData\\BitifEye\\ValiFrameK0\\PCIe\\CalibrationsOffline\\JBERT_M8020A\\Pci4_Asic_RootComplex_SigPCIe4Cem_EmulatedIsi_IsiAdjustment_v2.txt\"\n",
      "Log Entry:6/2/2021 4:04:48 PM> Internal: Loaded calibration data file from \"C:\\ProgramData\\BitifEye\\ValiFrameK0\\PCIe\\CalibrationsOffline\\JBERT_M8020A\\Pci4_Asic_RootComplex_SigPCIe4Cem_EmulatedIsi_InsertionLoss_v2.txt\"\n",
      "Log Entry:6/2/2021 4:04:48 PM> Internal: Loaded calibration data file from \"C:\\ProgramData\\BitifEye\\ValiFrameK0\\PCIe\\CalibrationsOffline\\JBERT_M8020A\\Pci4_Asic_RootComplex_SigPCIe4Cem_EmulatedIsi_30dB_Seasim_EyeHeightInitialPreset.txt\"\n",
      "Log Entry:6/2/2021 4:04:48 PM> Internal: Loaded calibration data file from \"C:\\ProgramData\\BitifEye\\ValiFrameK0\\PCIe\\CalibrationsOffline\\JBERT_M8020A\\Pci4_Asic_RootComplex_SigPCIe4Cem_EmulatedIsi_30dB_Seasim_EyeWidthInitialPreset.txt\"\n",
      "Log Entry:6/2/2021 4:04:48 PM> Internal: Loaded calibration data file from \"C:\\ProgramData\\BitifEye\\ValiFrameK0\\PCIe\\CalibrationsOffline\\JBERT_M8020A\\Pci4_Asic_RootComplex_SigPCIe4Cem_EmulatedIsi_30dB_Seasim_EyeHeightChannel.txt\"\n",
      "Log Entry:6/2/2021 4:04:48 PM> Internal: Loaded calibration data file from \"C:\\ProgramData\\BitifEye\\ValiFrameK0\\PCIe\\CalibrationsOffline\\JBERT_M8020A\\Pci4_Asic_RootComplex_SigPCIe4Cem_EmulatedIsi_30dB_Seasim_EyeWidthChannel.txt\"\n",
      "Log Entry:6/2/2021 4:04:48 PM> Internal: Loaded calibration data file from \"C:\\ProgramData\\BitifEye\\ValiFrameK0\\PCIe\\CalibrationsOffline\\JBERT_M8020A\\Pci4_Asic_RootComplex_SigPCIe4Cem_EmulatedIsi_30dB_Seasim_EyeHeightFinalPreset.txt\"\n",
      "Log Entry:6/2/2021 4:04:48 PM> Internal: Loaded calibration data file from \"C:\\ProgramData\\BitifEye\\ValiFrameK0\\PCIe\\CalibrationsOffline\\JBERT_M8020A\\Pci4_Asic_RootComplex_SigPCIe4Cem_EmulatedIsi_30dB_Seasim_EyeWidthFinalPreset.txt\"\n",
      "Log Entry:6/2/2021 4:04:48 PM> Internal: Loaded calibration data file from \"C:\\ProgramData\\BitifEye\\ValiFrameK0\\PCIe\\CalibrationsOffline\\JBERT_M8020A\\Pci4_Asic_RootComplex_SigPCIe4Cem_EmulatedIsi_30dB_Seasim_DmInterference.txt\"\n",
      "Log Entry:6/2/2021 4:04:48 PM> Internal: Loaded calibration data file from \"C:\\ProgramData\\BitifEye\\ValiFrameK0\\PCIe\\CalibrationsOffline\\JBERT_M8020A\\Pci4_Asic_RootComplex_SigPCIe4Cem_EmulatedIsi_30dB_Seasim_CmInterference.txt\"\n",
      "Log Entry:6/2/2021 4:04:48 PM> Internal: Loaded calibration data file from \"C:\\ProgramData\\BitifEye\\ValiFrameK0\\PCIe\\CalibrationsOffline\\JBERT_M8020A\\Pci4_Asic_RootComplex_SigPCIe4Cem_EmulatedIsi_30dB_Seasim_PreCompEye.txt\"\n",
      "Log Entry:6/2/2021 4:04:48 PM> Internal: Loaded calibration data file from \"C:\\ProgramData\\BitifEye\\ValiFrameK0\\PCIe\\CalibrationsOffline\\JBERT_M8020A\\Pci4_Asic_RootComplex_SigPCIe4Cem_EmulatedIsi_30dB_Seasim_CompEye.txt\"\n",
      "Log Entry:6/2/2021 4:04:55 PM> Internal: Family Startup Sequence\n",
      "Log Entry:6/2/2021 4:04:55 PM> Internal: Load assembly from: C:\\Program Files (x86)\\BitifEye\\ValiFrameK0\\PCIe\\TestAutomation\\PCIeProduct.dll\n",
      "Log Entry:6/2/2021 4:04:57 PM> Internal: Product assembly PCIeProduct successfully loaded\n"
     ]
    },
    {
     "data": {
      "text/plain": [
       "True"
      ]
     },
     "execution_count": 6,
     "metadata": {},
     "output_type": "execute_result"
    }
   ],
   "source": [
    "my_vf_pcie.InitApplication(\"PCIe\") # Initialize the application"
   ]
  },
  {
   "cell_type": "code",
   "execution_count": 9,
   "metadata": {},
   "outputs": [
    {
     "name": "stdout",
     "output_type": "stream",
     "text": [
      "Log Entry:6/2/2021 4:09:29 PM> Internal: Loaded calibration data file from \"C:\\ProgramData\\BitifEye\\ValiFrameK0\\PCIe\\CalibrationsOffline\\JBERT_M8020A\\Pci3Asic_LongChannel_M8041A_StrEyeHeight_.txt\"\n",
      "Log Entry:6/2/2021 4:09:29 PM> Internal: Loaded calibration data file from \"C:\\ProgramData\\BitifEye\\ValiFrameK0\\PCIe\\CalibrationsOffline\\JBERT_M8020A\\Pci3Asic_LongChannel_M8041A_StrEyeWidth_.txt\"\n",
      "Log Entry:6/2/2021 4:09:32 PM> Internal: Loaded calibration data file from \"C:\\ProgramData\\BitifEye\\ValiFrameK0\\PCIe\\CalibrationsOffline\\JBERT_M8020A\\Pci1_ASIC_RandomJitter_Ch7.txt\"\n",
      "Log Entry:6/2/2021 4:09:32 PM> Internal: Loaded calibration data file from \"C:\\ProgramData\\BitifEye\\ValiFrameK0\\PCIe\\CalibrationsOffline\\JBERT_M8020A\\Pci1_ASIC_CmInterference_Ch7.txt\"\n",
      "Log Entry:6/2/2021 4:09:32 PM> Internal: Loaded calibration data file from \"C:\\ProgramData\\BitifEye\\ValiFrameK0\\PCIe\\CalibrationsOffline\\JBERT_M8020A\\Pci1_ASIC_ISI_Ch7.txt\"\n",
      "Log Entry:6/2/2021 4:09:32 PM> Internal: Loaded calibration data file from \"C:\\ProgramData\\BitifEye\\ValiFrameK0\\PCIe\\CalibrationsOffline\\JBERT_M8020A\\Pci1_ASIC_EyeHeight_Ch7.txt\"\n",
      "Log Entry:6/2/2021 4:09:32 PM> Internal: Loaded calibration data file from \"C:\\ProgramData\\BitifEye\\ValiFrameK0\\PCIe\\CalibrationsOffline\\JBERT_M8020A\\Pci2_ASIC_RandomJitter_v2_Ch7.txt\"\n",
      "Log Entry:6/2/2021 4:09:32 PM> Internal: Loaded calibration data file from \"C:\\ProgramData\\BitifEye\\ValiFrameK0\\PCIe\\CalibrationsOffline\\JBERT_M8020A\\Pci2_ASIC_CmInterference_Ch7.txt\"\n",
      "Log Entry:6/2/2021 4:09:32 PM> Internal: Loaded calibration data file from \"C:\\ProgramData\\BitifEye\\ValiFrameK0\\PCIe\\CalibrationsOffline\\JBERT_M8020A\\Pci2_ASIC_ISI_Ch7.txt\"\n",
      "Log Entry:6/2/2021 4:09:32 PM> Internal: Loaded calibration data file from \"C:\\ProgramData\\BitifEye\\ValiFrameK0\\PCIe\\CalibrationsOffline\\JBERT_M8020A\\Pci2_ASIC_EyeHeight_Ch7.txt\"\n",
      "Log Entry:6/2/2021 4:09:32 PM> Internal: Loaded calibration data file from \"C:\\ProgramData\\BitifEye\\ValiFrameK0\\PCIe\\CalibrationsOffline\\JBERT_M8020A\\Pci3Asic_PreShoot_v2_.txt\"\n",
      "Log Entry:6/2/2021 4:09:32 PM> Internal: Loaded calibration data file from \"C:\\ProgramData\\BitifEye\\ValiFrameK0\\PCIe\\CalibrationsOffline\\JBERT_M8020A\\Pci3Asic_DeEmphasis_v2_.txt\"\n",
      "Log Entry:6/2/2021 4:09:32 PM> Internal: Loaded calibration data file from \"C:\\ProgramData\\BitifEye\\ValiFrameK0\\PCIe\\CalibrationsOffline\\JBERT_M8020A\\Pci3Asic_Vdiff_v2_.txt\"\n",
      "Log Entry:6/2/2021 4:09:32 PM> Internal: Loaded calibration data file from \"C:\\ProgramData\\BitifEye\\ValiFrameK0\\PCIe\\CalibrationsOffline\\JBERT_M8020A\\Pci3Asic_RandomJitter.txt\"\n",
      "Log Entry:6/2/2021 4:09:32 PM> Internal: Loaded calibration data file from \"C:\\ProgramData\\BitifEye\\ValiFrameK0\\PCIe\\CalibrationsOffline\\JBERT_M8020A\\Pci3Asic_LongChannel_M8041A_IL_v2_.txt\"\n",
      "Log Entry:6/2/2021 4:09:32 PM> Internal: Loaded calibration data file from \"C:\\ProgramData\\BitifEye\\ValiFrameK0\\PCIe\\CalibrationsOffline\\JBERT_M8020A\\Pci3Asic_LongChannel_M8041A_CmInterference.txt\"\n",
      "Log Entry:6/2/2021 4:09:32 PM> Internal: Loaded calibration data file from \"C:\\ProgramData\\BitifEye\\ValiFrameK0\\PCIe\\CalibrationsOffline\\JBERT_M8020A\\Pci3Asic_LongChannel_M8041A_DmInterference_v2.txt\"\n",
      "Log Entry:6/2/2021 4:09:32 PM> Internal: Loaded calibration data file from \"C:\\ProgramData\\BitifEye\\ValiFrameK0\\PCIe\\CalibrationsOffline\\JBERT_M8020A\\Pci4_PreShoot.txt\"\n",
      "Log Entry:6/2/2021 4:09:32 PM> Internal: Loaded calibration data file from \"C:\\ProgramData\\BitifEye\\ValiFrameK0\\PCIe\\CalibrationsOffline\\JBERT_M8020A\\Pci4_DeEmphasis.txt\"\n",
      "Log Entry:6/2/2021 4:09:32 PM> Internal: Loaded calibration data file from \"C:\\ProgramData\\BitifEye\\ValiFrameK0\\PCIe\\CalibrationsOffline\\JBERT_M8020A\\Pci4_Vdiff.txt\"\n",
      "Log Entry:6/2/2021 4:09:32 PM> Internal: Loaded calibration data file from \"C:\\ProgramData\\BitifEye\\ValiFrameK0\\PCIe\\CalibrationsOffline\\JBERT_M8020A\\Pci4_Seasim_RandomJitter.txt\"\n",
      "Log Entry:6/2/2021 4:09:32 PM> Internal: Loaded calibration data file from \"C:\\ProgramData\\BitifEye\\ValiFrameK0\\PCIe\\CalibrationsOffline\\JBERT_M8020A\\Pci4_Seasim_HfSinusoidalJitter.txt\"\n",
      "Log Entry:6/2/2021 4:09:32 PM> Internal: Loaded calibration data file from \"C:\\ProgramData\\BitifEye\\ValiFrameK0\\PCIe\\CalibrationsOffline\\JBERT_M8020A\\Pci4_Asic_RootComplex_SigPCIe4Cem_EmulatedIsi_IsiAdjustment_v2.txt\"\n",
      "Log Entry:6/2/2021 4:09:32 PM> Internal: Loaded calibration data file from \"C:\\ProgramData\\BitifEye\\ValiFrameK0\\PCIe\\CalibrationsOffline\\JBERT_M8020A\\Pci4_Asic_RootComplex_SigPCIe4Cem_EmulatedIsi_InsertionLoss_v2.txt\"\n",
      "Log Entry:6/2/2021 4:09:32 PM> Internal: Loaded calibration data file from \"C:\\ProgramData\\BitifEye\\ValiFrameK0\\PCIe\\CalibrationsOffline\\JBERT_M8020A\\Pci4_Asic_RootComplex_SigPCIe4Cem_EmulatedIsi_30dB_Seasim_EyeHeightInitialPreset.txt\"\n",
      "Log Entry:6/2/2021 4:09:32 PM> Internal: Loaded calibration data file from \"C:\\ProgramData\\BitifEye\\ValiFrameK0\\PCIe\\CalibrationsOffline\\JBERT_M8020A\\Pci4_Asic_RootComplex_SigPCIe4Cem_EmulatedIsi_30dB_Seasim_EyeWidthInitialPreset.txt\"\n",
      "Log Entry:6/2/2021 4:09:32 PM> Internal: Loaded calibration data file from \"C:\\ProgramData\\BitifEye\\ValiFrameK0\\PCIe\\CalibrationsOffline\\JBERT_M8020A\\Pci4_Asic_RootComplex_SigPCIe4Cem_EmulatedIsi_30dB_Seasim_EyeHeightChannel.txt\"\n",
      "Log Entry:6/2/2021 4:09:32 PM> Internal: Loaded calibration data file from \"C:\\ProgramData\\BitifEye\\ValiFrameK0\\PCIe\\CalibrationsOffline\\JBERT_M8020A\\Pci4_Asic_RootComplex_SigPCIe4Cem_EmulatedIsi_30dB_Seasim_EyeWidthChannel.txt\"\n",
      "Log Entry:6/2/2021 4:09:32 PM> Internal: Loaded calibration data file from \"C:\\ProgramData\\BitifEye\\ValiFrameK0\\PCIe\\CalibrationsOffline\\JBERT_M8020A\\Pci4_Asic_RootComplex_SigPCIe4Cem_EmulatedIsi_30dB_Seasim_EyeHeightFinalPreset.txt\"\n",
      "Log Entry:6/2/2021 4:09:32 PM> Internal: Loaded calibration data file from \"C:\\ProgramData\\BitifEye\\ValiFrameK0\\PCIe\\CalibrationsOffline\\JBERT_M8020A\\Pci4_Asic_RootComplex_SigPCIe4Cem_EmulatedIsi_30dB_Seasim_EyeWidthFinalPreset.txt\"\n",
      "Log Entry:6/2/2021 4:09:32 PM> Internal: Loaded calibration data file from \"C:\\ProgramData\\BitifEye\\ValiFrameK0\\PCIe\\CalibrationsOffline\\JBERT_M8020A\\Pci4_Asic_RootComplex_SigPCIe4Cem_EmulatedIsi_30dB_Seasim_DmInterference.txt\"\n",
      "Log Entry:6/2/2021 4:09:32 PM> Internal: Loaded calibration data file from \"C:\\ProgramData\\BitifEye\\ValiFrameK0\\PCIe\\CalibrationsOffline\\JBERT_M8020A\\Pci4_Asic_RootComplex_SigPCIe4Cem_EmulatedIsi_30dB_Seasim_CmInterference.txt\"\n",
      "Log Entry:6/2/2021 4:09:32 PM> Internal: Loaded calibration data file from \"C:\\ProgramData\\BitifEye\\ValiFrameK0\\PCIe\\CalibrationsOffline\\JBERT_M8020A\\Pci4_Asic_RootComplex_SigPCIe4Cem_EmulatedIsi_30dB_Seasim_PreCompEye.txt\"\n",
      "Log Entry:6/2/2021 4:09:32 PM> Internal: Loaded calibration data file from \"C:\\ProgramData\\BitifEye\\ValiFrameK0\\PCIe\\CalibrationsOffline\\JBERT_M8020A\\Pci4_Asic_RootComplex_SigPCIe4Cem_EmulatedIsi_30dB_Seasim_CompEye.txt\"\n",
      "Log Entry:6/2/2021 4:09:39 PM> Internal: Create procedure set 4.0, EndPointASIC \n",
      "Log Entry:6/2/2021 4:09:39 PM> Internal: Create procedure subset 'Calibration'\n",
      "Log Entry:6/2/2021 4:09:39 PM> Internal: Create procedure subset -'2.5 GT/s'\n",
      "Log Entry:6/2/2021 4:09:39 PM> Internal: Create procedure subset --'Lane0'\n",
      "Log Entry:6/2/2021 4:09:40 PM> Internal: Create procedure 300001 ---'2.5G RJ Calibration'\n",
      "Log Entry:6/2/2021 4:09:40 PM> Internal: Create procedure 300002 ---'2.5G ISI Calibration'\n",
      "Log Entry:6/2/2021 4:09:40 PM> Internal: Create procedure 300006 ---'2.5G CMSI Calibration'\n",
      "Log Entry:6/2/2021 4:09:40 PM> Internal: Create procedure 300004 ---'2.5G Eye Height Calibration'\n",
      "Log Entry:6/2/2021 4:09:40 PM> Internal: Create procedure subset -'5.0 GT/s'\n",
      "Log Entry:6/2/2021 4:09:40 PM> Internal: Create procedure subset --'Lane0'\n",
      "Log Entry:6/2/2021 4:09:40 PM> Internal: Create procedure 304801 ---'5G RJ Calibration'\n",
      "Log Entry:6/2/2021 4:09:40 PM> Internal: Create procedure 304802 ---'5G ISI Calibration'\n",
      "Log Entry:6/2/2021 4:09:40 PM> Internal: Create procedure 304806 ---'5G CMSI Calibration'\n",
      "Log Entry:6/2/2021 4:09:40 PM> Internal: Create procedure 304804 ---'5G Eye Height Calibration'\n",
      "Log Entry:6/2/2021 4:09:40 PM> Internal: Create procedure subset -'8.0 GT/s'\n",
      "Log Entry:6/2/2021 4:09:40 PM> Internal: Create procedure subset --'Lane0'\n",
      "Log Entry:6/2/2021 4:09:40 PM> Internal: Create procedure 309612 ---'8G TxEQ and Launch Voltage Calibration'\n",
      "Log Entry:6/2/2021 4:09:40 PM> Internal: Create procedure 309614 ---'8G RJ Calibration'\n",
      "Log Entry:6/2/2021 4:09:40 PM> Internal: Create procedure subset --'Long Channel'\n",
      "Log Entry:6/2/2021 4:09:40 PM> Internal: Create procedure subset ---'Lane0'\n",
      "Log Entry:6/2/2021 4:09:40 PM> Internal: Create procedure 309645 ----'8G Insertion Loss Calibration'\n"
     ]
    },
    {
     "name": "stdout",
     "output_type": "stream",
     "text": [
      "Log Entry:6/2/2021 4:09:40 PM> Internal: Create procedure 309642 ----'8G CMSI Calibration'\n",
      "Log Entry:6/2/2021 4:09:40 PM> Internal: Create procedure 309643 ----'8G DMSI Calibration'\n",
      "Log Entry:6/2/2021 4:09:40 PM> Critical: LongChannel 8G Stressed Jitter Eye CalibrationEH of 0mV or EW of 0mUI is out of spec.\n",
      " Stack trace:\n",
      "   at BitifEye.ValiFrame.SerialBusProducts.PCIeProduct.PCIe3AsicCalStressedEye.OnCreate()\n",
      "   at BitifEye.ValiFrame.Sequence.VFProcedureSubset.InitChild(VFSequenceTarget child)\n",
      "   at BitifEye.ValiFrame.Sequence.VFProcedureSubset.AddChild(VFSequenceTarget child)\n",
      "   at BitifEye.ValiFrame.Sequence.VFProcedureSubset.AddProcedure(VFProcedure procedure)\n",
      "   at BitifEye.ValiFrame.SerialBusProducts.PCIeProduct.PCIeProduct.d(VFProcedureSubset A_0, PCIe3AsicChannelE A_1)\n",
      "   at BitifEye.ValiFrame.SerialBusProducts.PCIeProduct.PCIeProduct.ag(VFProcedureSubset A_0)\n",
      "   at BitifEye.ValiFrame.SerialBusProducts.PCIeProduct.PCIeProduct.ah(VFProcedureSubset A_0)\n",
      "   at BitifEye.ValiFrame.SerialBusProducts.PCIeProduct.PCIeProduct.ar(VFProcedureSubset A_0)\n",
      "   at BitifEye.ValiFrame.SerialBusProducts.PCIeProduct.PCIeProduct.Configure()\n",
      "   at BitifEye.ValiFrame.Sequence.VFProduct.OnConfigure()\n",
      "   at BitifEye.ValiFrame.UserInterface.ValiFrame.ConfigureProduct(VFProduct product)\n",
      "   at BitifEye.ValiFrame.UserInterface.ValiFrame.ConfigureProductWithoutDialog(VFProduct product)\n",
      "   at BitifEye.ValiFrame.UserInterface.ValiFrame.b(VFObjectList A_0, VFProduct A_1)\n",
      "   at BitifEye.ValiFrame.UserInterface.ValiFrame.LoadProjectFile(String filename, VFProduct product)\n",
      "   at BitifEye.ValiFrame.UserInterface.ValiFrame.LoadConfigurationOrProjectFile(String filename, VFProduct product)\n",
      "   at BitifEye.ValiFrame.ValiFrameRemote.ValiFrameRemote.LoadProject(String filename)\n",
      "   at System.RuntimeMethodHandle.InvokeMethod(Object target, Object[] arguments, Signature sig, Boolean constructor)\n",
      "   at System.Reflection.RuntimeMethodInfo.UnsafeInvokeInternal(Object obj, Object[] parameters, Object[] arguments)\n",
      "   at System.Reflection.RuntimeMethodInfo.Invoke(Object obj, BindingFlags invokeAttr, Binder binder, Object[] parameters, CultureInfo culture)\n",
      "   at Python.Runtime.MethodBinder.Invoke(IntPtr inst, IntPtr args, IntPtr kw, MethodBase info, MethodInfo[] methodinfo)\n",
      "   at Python.Runtime.MethodObject.Invoke(IntPtr target, IntPtr args, IntPtr kw, MethodBase info)\n",
      "   at Python.Runtime.MethodBinding.tp_call(IntPtr ob, IntPtr args, IntPtr kw)\n",
      "Log Entry:6/2/2021 4:09:40 PM> Internal: Create procedure 309648 ----'8G Stressed Jitter Eye Calibration'\n",
      "Log Entry:6/2/2021 4:09:40 PM> Internal: Create procedure subset -'16.0 GT/s'\n",
      "Log Entry:6/2/2021 4:09:40 PM> Internal: Create procedure subset --'Lane0'\n",
      "Log Entry:6/2/2021 4:09:40 PM> Internal: Create procedure 314401 ---'16G TxEQ and Launch Voltage Calibration'\n",
      "Log Entry:6/2/2021 4:09:40 PM> Internal: Create procedure 314403 ---'16G RJ Calibration'\n",
      "Log Entry:6/2/2021 4:09:40 PM> Internal: Create procedure 314405 ---'16G HF SJ Calibration'\n",
      "Log Entry:6/2/2021 4:09:40 PM> Internal: Create procedure subset ---'Long Channel'\n",
      "Log Entry:6/2/2021 4:09:40 PM> Internal: Create procedure 314410 ----'16G Insertion Loss Calibration'\n",
      "Log Entry:6/2/2021 4:09:40 PM> Internal: Create procedure 314419 ----'16G ISI Adjustment Calibration'\n",
      "Log Entry:6/2/2021 4:09:40 PM> Internal: Create procedure 314411 ----'16G Initial Equalization Preset Optimization'\n",
      "Log Entry:6/2/2021 4:09:40 PM> Internal: Create procedure 314412 ----'16G Channel Calibration'\n",
      "Log Entry:6/2/2021 4:09:40 PM> Internal: Create procedure 314415 ----'16G Final Equalization Preset Optimization'\n",
      "Log Entry:6/2/2021 4:09:40 PM> Internal: Create procedure 314413 ----'16G DMSI Calibration'\n",
      "Log Entry:6/2/2021 4:09:40 PM> Internal: Create procedure 314414 ----'16G CMSI Calibration'\n",
      "Log Entry:6/2/2021 4:09:40 PM> Internal: Create procedure 314416 ----'16G Pre Compliance Eye Calibration'\n",
      "Log Entry:6/2/2021 4:09:40 PM> Internal: Create procedure 314417 ----'16G Compliance Eye Calibration'\n",
      "Log Entry:6/2/2021 4:09:40 PM> Internal: Create procedure subset 'Receiver'\n",
      "Log Entry:6/2/2021 4:09:40 PM> Internal: Create procedure subset -'2.5 GT/s'\n",
      "Log Entry:6/2/2021 4:09:40 PM> Internal: Create procedure subset --'Lane0'\n",
      "Log Entry:6/2/2021 4:09:42 PM> Internal: Create procedure 319201 ---'2.5G Rx Compliance Test'\n",
      "Log Entry:6/2/2021 4:09:42 PM> Internal: Create procedure subset -'5.0 GT/s'\n",
      "Log Entry:6/2/2021 4:09:42 PM> Internal: Create procedure subset --'Lane0'\n",
      "Log Entry:6/2/2021 4:09:42 PM> Internal: Create procedure 324001 ---'5G Rx Compliance Test'\n",
      "Log Entry:6/2/2021 4:09:42 PM> Internal: Create procedure subset 'Link Equalization'\n",
      "Log Entry:6/2/2021 4:09:42 PM> Internal: Create procedure subset -'Receiver'\n",
      "Log Entry:6/2/2021 4:09:42 PM> Internal: Create procedure subset -'Transmitter'\n",
      "Log Entry:6/2/2021 4:09:42 PM> Internal: Create procedure subset --'8.0 GT/s'\n",
      "Log Entry:6/2/2021 4:09:42 PM> Internal: Create procedure subset ---'Long Channel'\n",
      "Log Entry:6/2/2021 4:09:42 PM> Internal: Create procedure subset ----'Lane0'\n",
      "Log Entry:6/2/2021 4:09:42 PM> Internal: Create procedure 328851 -----'8G LEQ Rx Stressed Jitter Eye Test'\n",
      "Log Entry:6/2/2021 4:09:42 PM> Internal: Create procedure subset --'8.0 GT/s'\n",
      "Log Entry:6/2/2021 4:09:42 PM> Internal: Create procedure subset ---'Lane0'\n",
      "Log Entry:6/2/2021 4:09:42 PM> Internal: Create procedure 367214 ----'8G LEQ Tx Initial Preset Compliance Test'\n",
      "Log Entry:6/2/2021 4:09:42 PM> Internal: Create procedure 367215 ----'8G LEQ Tx Response Time Compliance Test'\n",
      "Log Entry:6/2/2021 4:09:42 PM> Internal: Create procedure subset --'16.0 GT/s'\n",
      "Log Entry:6/2/2021 4:09:42 PM> Internal: Create procedure subset ---'Long Channel'\n",
      "Log Entry:6/2/2021 4:09:42 PM> Internal: Create procedure subset ----'Lane0'\n",
      "Log Entry:6/2/2021 4:09:42 PM> Internal: Create procedure 333610 -----'16G LEQ Rx Stressed Jitter Eye Test'\n",
      "Log Entry:6/2/2021 4:09:42 PM> Internal: Create procedure subset --'16.0 GT/s'\n",
      "Log Entry:6/2/2021 4:09:42 PM> Internal: Create procedure subset ---'Lane0'\n",
      "Log Entry:6/2/2021 4:09:42 PM> Internal: Create procedure 372012 ----'16G LEQ Tx Initial Preset Compliance Test'\n",
      "Log Entry:6/2/2021 4:09:42 PM> Internal: Create procedure 372013 ----'16G LEQ Tx Response Time Compliance Test'\n"
     ]
    }
   ],
   "source": [
    "my_vf_pcie.LoadProject(\"my_PCIe_proj.vfp\")"
   ]
  },
  {
   "cell_type": "markdown",
   "metadata": {},
   "source": [
    "We can query the available tests & IDs."
   ]
  },
  {
   "cell_type": "code",
   "execution_count": 11,
   "metadata": {},
   "outputs": [
    {
     "name": "stdout",
     "output_type": "stream",
     "text": [
      "300001 2.5G RJ Calibration\n",
      "300002 2.5G ISI Calibration\n",
      "300006 2.5G CMSI Calibration\n",
      "300004 2.5G Eye Height Calibration\n",
      "304801 5G RJ Calibration\n",
      "304802 5G ISI Calibration\n",
      "304806 5G CMSI Calibration\n",
      "304804 5G Eye Height Calibration\n",
      "309612 8G TxEQ and Launch Voltage Calibration\n",
      "309614 8G RJ Calibration\n",
      "309645 8G Insertion Loss Calibration\n",
      "309642 8G CMSI Calibration\n",
      "309643 8G DMSI Calibration\n",
      "309648 8G Stressed Jitter Eye Calibration\n",
      "314401 16G  TxEQ and Launch Voltage Calibration\n",
      "314403 16G RJ Calibration\n",
      "314405 16G HF SJ Calibration\n",
      "314410 16G Insertion Loss Calibration\n",
      "314419 16G ISI Adjustment Calibration\n",
      "314411 16G Initial Equalization Preset Optimization\n",
      "314412 16G Channel Calibration\n",
      "314415 16G Final Equalization Preset Optimization\n",
      "314413 16G DMSI Calibration\n",
      "314414 16G CMSI Calibration\n",
      "314416 16G Pre Compliance Eye Calibration\n",
      "314417 16G Compliance Eye Calibration\n",
      "319201 2.5G Rx Compliance Test\n",
      "324001 5G Rx Compliance Test\n",
      "328851 8G LEQ Rx Stressed Jitter Eye Test\n",
      "333610 16G  LEQ Rx Stressed Jitter Eye Test\n",
      "367214 8G LEQ Tx Initial Preset Compliance Test\n",
      "367215 8G LEQ Tx Response Time Compliance Test\n",
      "372012 16G  LEQ Tx Initial Preset Compliance Test\n",
      "372013 16G  LEQ Tx Response Time Compliance Test\n"
     ]
    }
   ],
   "source": [
    "procedureIDs = procedureNames = [] # The variable names must be assigned to something but are overwritten in the next call\n",
    "_, procedureIDs, procedureNames = my_vf_pcie.GetProcedures(procedureIDs, procedureNames)\n",
    "procedureIDs = [int(id) for id in procedureIDs] # Convert to a python list of integers\n",
    "procedureNames = [str(name) for name in procedureNames] # Convert to a python list of strings\n",
    "procs = zip(procedureIDs, procedureNames) # Zip the id's & names together. A dictionary may also be a useful way to store these.\n",
    "for proc_id,proc_name in procs:\n",
    "    print(proc_id, proc_name)"
   ]
  },
  {
   "cell_type": "markdown",
   "metadata": {},
   "source": [
    "<h4>Example 1: Synchronous RunProcedure() or RunProcedure() methods</h4>\n",
    "<ul><li>The RunProcedure() and RunProcedures() methods are **synchronous** in the sense that the Procedure must complete before control is returned to the Python prompt.</ul>"
   ]
  },
  {
   "cell_type": "code",
   "execution_count": null,
   "metadata": {},
   "outputs": [],
   "source": [
    "# run procedures synchronously\n",
    "#procedureIDs = array(312812,312813)\n",
    "#myprocs = array(309629,309630)\n",
    "results = my_vf_pcie.RunProcedure(312812)"
   ]
  },
  {
   "cell_type": "markdown",
   "metadata": {},
   "source": [
    "In the above example the program pauses at each line above waiting for the user to hit enter per our use of raw_input()."
   ]
  },
  {
   "cell_type": "markdown",
   "metadata": {},
   "source": [
    "<h4>Example 2: Asynchronous StartRun() method</h4>\n",
    "<ul><li>Since StartRun() returns control to the Python interpreter immediately we can insert a while loop to check the status of the procedures. This will allow the flow to execute just as the synchronous method above did.</ul>"
   ]
  },
  {
   "cell_type": "code",
   "execution_count": null,
   "metadata": {},
   "outputs": [],
   "source": [
    "# run procedures asynchronously\n",
    "my_procedures = [312812, 312813]  ## define variable for procedures to execute\n",
    "my_vf_pcie.SelectProcedures(my_procedures)\n",
    "my_vf_pcie.StartRun()\n",
    "while True:\n",
    "    time.sleep(2)\n",
    "    status = my_vf_pcie.GetActualStatus()\n",
    "    if status == 'Complete':\n",
    "        break"
   ]
  },
  {
   "cell_type": "code",
   "execution_count": null,
   "metadata": {},
   "outputs": [],
   "source": [
    "# Unregister the event handlers\n",
    "my_vf_pcie.LogChanged -= LogChangedEventHandler(my_LogChanged);\n",
    "my_vf_pcie.StatusChanged -= StatusChangedEventHandler(my_StatusChanged);\n",
    "my_vf_pcie.ProcedureCompleted -= ProcedureCompletedEventHandler(my_ProcedureCompleted);\n",
    "my_vf_pcie.DialogPopUp -= DialogShowEventHandler(my_DialogPopUp);\n",
    "# close object\n",
    "my_vf_pcie.Finalize()"
   ]
  },
  {
   "cell_type": "markdown",
   "metadata": {},
   "source": [
    "Copyright © 2017 Keysight Technologies Inc. All rights reserved.\n",
    "\n",
    "You have a royalty-free right to use, modify, reproduce and distribute this content (and/or any modified version) in any way you find useful, provided that you agree that Agilent has no warranty, obligations or liability."
   ]
  },
  {
   "cell_type": "code",
   "execution_count": null,
   "metadata": {},
   "outputs": [],
   "source": []
  }
 ],
 "metadata": {
  "kernelspec": {
   "display_name": "Python 3",
   "language": "python",
   "name": "python3"
  },
  "language_info": {
   "codemirror_mode": {
    "name": "ipython",
    "version": 3
   },
   "file_extension": ".py",
   "mimetype": "text/x-python",
   "name": "python",
   "nbconvert_exporter": "python",
   "pygments_lexer": "ipython3",
   "version": "3.8.8"
  }
 },
 "nbformat": 4,
 "nbformat_minor": 1
}
